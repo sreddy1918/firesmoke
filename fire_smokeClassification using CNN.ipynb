{
 "cells": [
  {
   "cell_type": "code",
   "execution_count": 17,
   "id": "5029a4aa",
   "metadata": {},
   "outputs": [],
   "source": [
    "## Loading mechanism\n",
    "import os\n",
    "import matplotlib.pyplot as plt\n",
    "# tensorflow is a package which is used to design the neural network architecture (torch-> pytroch)\n",
    "import tensorflow as tf\n",
    "#from tensorflow.keras.optimizers import Adam\n",
    "# THis image data generator eases our burden to load the images in a loop\n",
    "from tensorflow.keras.models import Sequential\n",
    "from tensorflow.keras.preprocessing.image import ImageDataGenerator\n",
    "from tensorflow.keras.layers import Conv2D, MaxPooling2D, Flatten, Dense, BatchNormalization, Dropout\n",
    "from tensorflow.keras.callbacks import EarlyStopping, ModelCheckpoint"
   ]
  },
  {
   "cell_type": "code",
   "execution_count": null,
   "id": "b29f0ee6",
   "metadata": {},
   "outputs": [],
   "source": [
    "'''then my image shape will be (150,150,3) for all the training examples -> input we are going to give as input to the first \n",
    "training layer'''\n",
    "img_width=250; img_height=250\n",
    "batch_size=16"
   ]
  },
  {
   "cell_type": "code",
   "execution_count": null,
   "id": "6ca84fb3",
   "metadata": {},
   "outputs": [],
   "source": [
    "train_datagen = ImageDataGenerator()\n",
    "test_datagen = ImageDataGenerator()"
   ]
  },
  {
   "cell_type": "code",
   "execution_count": null,
   "id": "b0dc17df",
   "metadata": {},
   "outputs": [],
   "source": [
    " train_generator = train_datagen.flow_from_directory(\"C:/Users/sredd/Downloads/ML_datasets/fire&smoke/img_data/train\",\n",
    "                                                    batch_size=batch_size,\n",
    "                                                    class_mode='categorical',\n",
    "                                                    target_size=(img_height, img_width)\n",
    "                                                    )\n",
    "\n",
    "test_generator = test_datagen.flow_from_directory(\"C:/Users/sredd/Downloads/ML_datasets/fire&smoke/img_data/test\",\n",
    "                                                    batch_size=batch_size,\n",
    "                                                    class_mode='categorical',\n",
    "                                                    target_size=(img_height, img_width)\n",
    "                                                    )"
   ]
  },
  {
   "cell_type": "code",
   "execution_count": null,
   "id": "722245df",
   "metadata": {},
   "outputs": [],
   "source": [
    "model = Sequential()\n",
    "\n",
    "# Feature Layer 1\n",
    "model.add(Conv2D(16, kernel_size=(3, 3), activation='relu', input_shape=(250, 250, 3)))\n",
    "model.add(BatchNormalization())\n",
    "model.add(MaxPooling2D(pool_size=(2, 2))) #pool size == kernel matrix size\n",
    "\n",
    "# Feature Layer 2\n",
    "model.add(Conv2D(32, kernel_size=(3, 3), activation='relu'))\n",
    "model.add(BatchNormalization())\n",
    "model.add(MaxPooling2D(pool_size=(2, 2)))\n",
    "\n",
    "# Feature Layer 3\n",
    "model.add(Conv2D(64, kernel_size=(3, 3), activation='relu'))\n",
    "model.add(BatchNormalization())\n",
    "model.add(MaxPooling2D(pool_size=(2, 2)))\n",
    "\n",
    "# Feature Layer 4\n",
    "model.add(Conv2D(64, kernel_size=(3, 3), activation='relu'))\n",
    "model.add(BatchNormalization())\n",
    "model.add(MaxPooling2D(pool_size=(2, 2)))\n",
    "\n",
    "# MLP Architecture\n",
    "model.add(Flatten())\n",
    "# Hidden Layer 1\n",
    "model.add(Dense(256, activation='relu'))\n",
    "model.add(Dropout(0.25))\n",
    "model.add(Dense(3, activation='softmax'))"
   ]
  },
  {
   "cell_type": "code",
   "execution_count": null,
   "id": "29bff85f",
   "metadata": {},
   "outputs": [],
   "source": [
    "model.summary()"
   ]
  },
  {
   "cell_type": "code",
   "execution_count": null,
   "id": "d7c64ff5-5256-4870-a475-d12b80d8c1c0",
   "metadata": {},
   "outputs": [],
   "source": [
    "from sklearn.model_selection import train_test_split"
   ]
  },
  {
   "cell_type": "code",
   "execution_count": null,
   "id": "854968e8-d699-4134-b719-6d2b421af040",
   "metadata": {},
   "outputs": [],
   "source": [
    "#X_train,X_test,y_train,y_test = train_test_split(y_train,y_test,random_state=104,test_size=0.20,shuffle=True)"
   ]
  },
  {
   "cell_type": "code",
   "execution_count": null,
   "id": "5c1f5dd7-1ef1-48ac-88b8-6add81445ab7",
   "metadata": {},
   "outputs": [],
   "source": [
    "model.compile(optimizer='rmsprop', loss='categorical_crossentropy', metrics =['accuracy'])"
   ]
  },
  {
   "cell_type": "code",
   "execution_count": null,
   "id": "c0d37460",
   "metadata": {
    "scrolled": true
   },
   "outputs": [],
   "source": [
    "history = model.fit_generator(train_generator,epochs=15,verbose=1, validation_data = test_generator)"
   ]
  },
  {
   "cell_type": "code",
   "execution_count": null,
   "id": "ac0c566b",
   "metadata": {},
   "outputs": [],
   "source": [
    "model.save('fire&smoke_model.h5')"
   ]
  },
  {
   "cell_type": "code",
   "execution_count": null,
   "id": "ca11e6fb",
   "metadata": {},
   "outputs": [],
   "source": [
    "import cv2\n",
    "import numpy as np"
   ]
  },
  {
   "cell_type": "code",
   "execution_count": null,
   "id": "3668d6eb",
   "metadata": {},
   "outputs": [],
   "source": [
    "image = cv2.imread(\"dog.jpg\")\n",
    "image_res = cv2.resize(image, (img_width,img_height)) # 256, 256 -> (256,256,3)\n",
    "#image_res = image_res / 255.0 # Normalization -1 to 1\n",
    "image_exp = np.expand_dims(image_res, axis=0) # (1,256,256,3)\n",
    "pred = model.predict(image_exp)\n",
    "print(pred)"
   ]
  },
  {
   "cell_type": "code",
   "execution_count": null,
   "id": "2e434370-66f4-4d86-ab7f-3047be2af37c",
   "metadata": {},
   "outputs": [],
   "source": [
    "image = cv2.imread(\"mountain1.jpg\")\n",
    "image_res = cv2.resize(image, (img_width,img_height)) # 256, 256 -> (256,256,3)\n",
    "#image_res = image_res / 255.0 # Normalization -1 to 1\n",
    "image_exp = np.expand_dims(image_res, axis=0) # (1,256,256,3)\n",
    "pred = model.predict(image_exp)\n",
    "print(pred)"
   ]
  },
  {
   "cell_type": "code",
   "execution_count": null,
   "id": "79b53688",
   "metadata": {},
   "outputs": [],
   "source": [
    "import os\n",
    "\n",
    "labels = os.listdir(\"C:/Users/sredd/Downloads/ML_datasets/fire&smoke/img_data/train\")\n",
    "print(labels)"
   ]
  },
  {
   "cell_type": "code",
   "execution_count": null,
   "id": "d6823a8b",
   "metadata": {},
   "outputs": [],
   "source": [
    "prediction = labels[np.argmax(pred)]\n",
    "print(prediction)"
   ]
  },
  {
   "cell_type": "code",
   "execution_count": null,
   "id": "166c9425",
   "metadata": {},
   "outputs": [],
   "source": [
    "image = cv2.imread(\"fire.jpg\")\n",
    "image_res = cv2.resize(image, (img_width,img_height))\n",
    "#image_res = image_res / 255.0\n",
    "image_exp = np.expand_dims(image_res, axis=0)\n",
    "pred = model.predict(image_exp)\n",
    "prediction = labels[np.argmax(pred)]\n",
    "print(prediction, pred)"
   ]
  },
  {
   "cell_type": "code",
   "execution_count": null,
   "id": "17a48d97",
   "metadata": {},
   "outputs": [],
   "source": [
    "pred"
   ]
  },
  {
   "cell_type": "code",
   "execution_count": null,
   "id": "f28b67e7",
   "metadata": {},
   "outputs": [],
   "source": [
    "image = cv2.imread(\"fire1.jpg\")\n",
    "image_res = cv2.resize(image, (img_width,img_height))\n",
    "#image_res = image_res / 255.0\n",
    "image_exp = np.expand_dims(image_res, axis=0)\n",
    "pred = model.predict(image_exp)\n",
    "prediction = labels[np.argmax(pred)]\n",
    "print(prediction)"
   ]
  },
  {
   "cell_type": "code",
   "execution_count": null,
   "id": "5a3dfaed",
   "metadata": {},
   "outputs": [],
   "source": [
    "pred"
   ]
  },
  {
   "cell_type": "code",
   "execution_count": null,
   "id": "758d1130-7bb6-4cd1-8a8a-cd46667b6418",
   "metadata": {},
   "outputs": [],
   "source": [
    "image = cv2.imread(\"fire.jpg\")\n",
    "image_res = cv2.resize(image, (img_width,img_height))\n",
    "#image_res = image_res / 255.0\n",
    "image_exp = np.expand_dims(image_res, axis=0)\n",
    "pred = model.predict(image_exp)\n",
    "prediction = labels[np.argmax(pred)]\n",
    "print(prediction)"
   ]
  },
  {
   "cell_type": "code",
   "execution_count": null,
   "id": "456a7f79-9369-41e9-9472-106b88fd297c",
   "metadata": {},
   "outputs": [],
   "source": [
    "### Create a Pickle file using serialization \n",
    "import pickle\n",
    "pickle_out = open(\"imageclassifier.pkl\",\"wb\")\n",
    "pickle.dump(prediction, pickle_out)\n",
    "pickle_out.close()\n"
   ]
  },
  {
   "cell_type": "code",
   "execution_count": 12,
   "id": "4c0c0f41-e5ce-4b0f-a013-f93b7395694a",
   "metadata": {},
   "outputs": [],
   "source": [
    "from tensorflow.keras.models import load_model\n",
    "import cv2\n",
    "import numpy as np\n",
    "import os"
   ]
  },
  {
   "cell_type": "code",
   "execution_count": 13,
   "id": "41ecbf20-180e-4734-9c8d-6e6425424741",
   "metadata": {},
   "outputs": [
    {
     "name": "stdout",
     "output_type": "stream",
     "text": [
      "['default', 'fire', 'smoke']\n"
     ]
    }
   ],
   "source": [
    "labels = ['default', 'fire', 'smoke']\n",
    "print(labels)"
   ]
  },
  {
   "cell_type": "code",
   "execution_count": 14,
   "id": "8696dc14-7214-48f5-884a-7041e3941242",
   "metadata": {},
   "outputs": [],
   "source": [
    "clf = load_model(\"fire_smoke_model.h5\")"
   ]
  },
  {
   "cell_type": "code",
   "execution_count": 15,
   "id": "7e478b7f-90c8-4881-b3a0-834bcd1ce3fc",
   "metadata": {},
   "outputs": [
    {
     "name": "stdout",
     "output_type": "stream",
     "text": [
      "1/1 [==============================] - 0s 452ms/step\n",
      "smoke\n"
     ]
    }
   ],
   "source": [
    "image = cv2.imread(\"fire.jpg\")\n",
    "image_res = cv2.resize(image, (250,250))\n",
    "#image_res = image_res / 255.0\n",
    "image_exp = np.expand_dims(image_res, axis=0)\n",
    "pred = clf.predict(image_exp)\n",
    "prediction = labels[np.argmax(pred)]\n",
    "print(prediction)"
   ]
  },
  {
   "cell_type": "code",
   "execution_count": 16,
   "id": "022ebeaf-b56a-45c7-a7f1-4d5bdd4d04ee",
   "metadata": {},
   "outputs": [
    {
     "data": {
      "text/plain": [
       "array([[1.0808163e-05, 2.1803635e-06, 9.9998701e-01]], dtype=float32)"
      ]
     },
     "execution_count": 16,
     "metadata": {},
     "output_type": "execute_result"
    }
   ],
   "source": [
    "pred"
   ]
  },
  {
   "cell_type": "code",
   "execution_count": null,
   "id": "80a8ac85-0c6e-4dc3-8d0a-d9f6c0a82089",
   "metadata": {},
   "outputs": [],
   "source": []
  }
 ],
 "metadata": {
  "kernelspec": {
   "display_name": "Python 3 (ipykernel)",
   "language": "python",
   "name": "python3"
  },
  "language_info": {
   "codemirror_mode": {
    "name": "ipython",
    "version": 3
   },
   "file_extension": ".py",
   "mimetype": "text/x-python",
   "name": "python",
   "nbconvert_exporter": "python",
   "pygments_lexer": "ipython3",
   "version": "3.11.7"
  }
 },
 "nbformat": 4,
 "nbformat_minor": 5
}
